{
  "nbformat": 4,
  "nbformat_minor": 0,
  "metadata": {
    "colab": {
      "name": "matrix_multiply.ipynb",
      "provenance": [],
      "collapsed_sections": [],
      "authorship_tag": "ABX9TyMcIJ0x+XlP8BwscAaADmPZ",
      "include_colab_link": true
    },
    "kernelspec": {
      "name": "python3",
      "display_name": "Python 3"
    }
  },
  "cells": [
    {
      "cell_type": "markdown",
      "metadata": {
        "id": "view-in-github",
        "colab_type": "text"
      },
      "source": [
        "<a href=\"https://colab.research.google.com/github/srivastavaashish/testing/blob/main/matrix_multiply.ipynb\" target=\"_parent\"><img src=\"https://colab.research.google.com/assets/colab-badge.svg\" alt=\"Open In Colab\"/></a>"
      ]
    },
    {
      "cell_type": "markdown",
      "metadata": {
        "id": "QarXq6Ya-KLO"
      },
      "source": [
        "Program to multiply two matrices. "
      ]
    },
    {
      "cell_type": "markdown",
      "metadata": {
        "id": "QwiNWqDv-RGr"
      },
      "source": [
        "3x3 matrices are:\n"
      ]
    },
    {
      "cell_type": "code",
      "metadata": {
        "id": "Na6TFsEk-V-5",
        "outputId": "46590b07-2efc-4eab-cccd-1ed9d06dd634",
        "colab": {
          "base_uri": "https://localhost:8080/",
          "height": 68
        }
      },
      "source": [
        "X = [[2,7,1],\n",
        "    [4 ,0,6],\n",
        "    [7 ,8,0]]\n",
        "# 3x4 matrix\n",
        "Y = [[5,0,1,2],\n",
        "    [6,0,3,0],\n",
        "    [4,5,0,1]]\n",
        "# result is 3x4\n",
        "result = [[0,0,0,0],\n",
        "         [0,0,0,0],\n",
        "         [0,0,0,0]]\n",
        "\n",
        "# iterate through rows of X\n",
        "for i in range(len(X)):\n",
        "   # iterate through columns of Y\n",
        "   for j in range(len(Y[0])):\n",
        "       # iterate through rows of Y\n",
        "       for k in range(len(Y)):\n",
        "           result[i][j] += X[i][k] * Y[k][j]\n",
        "\n",
        "for r in result:\n",
        "   print(r)\n"
      ],
      "execution_count": 3,
      "outputs": [
        {
          "output_type": "stream",
          "text": [
            "[56, 5, 23, 5]\n",
            "[44, 30, 4, 14]\n",
            "[83, 0, 31, 14]\n"
          ],
          "name": "stdout"
        }
      ]
    }
  ]
}